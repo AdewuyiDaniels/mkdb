{
  "cells": [
    {
      "cell_type": "code",
      "execution_count": null,
      "id": "4431f97e",
      "metadata": {
        "id": "4431f97e",
        "outputId": "ea25d09b-ee79-4543-f1d6-b2f72bdd2d1f"
      },
      "outputs": [
        {
          "name": "stdout",
          "output_type": "stream",
          "text": [
            "Requirement already satisfied: Flask in c:\\users\\user pc\\anaconda3\\lib\\site-packages (2.2.2)\n",
            "Requirement already satisfied: itsdangerous>=2.0 in c:\\users\\user pc\\anaconda3\\lib\\site-packages (from Flask) (2.0.1)\n",
            "Requirement already satisfied: Jinja2>=3.0 in c:\\users\\user pc\\anaconda3\\lib\\site-packages (from Flask) (3.1.2)\n",
            "Requirement already satisfied: Werkzeug>=2.2.2 in c:\\users\\user pc\\anaconda3\\lib\\site-packages (from Flask) (2.2.2)\n",
            "Requirement already satisfied: click>=8.0 in c:\\users\\user pc\\anaconda3\\lib\\site-packages (from Flask) (8.0.4)\n",
            "Requirement already satisfied: colorama in c:\\users\\user pc\\anaconda3\\lib\\site-packages (from click>=8.0->Flask) (0.4.6)\n",
            "Requirement already satisfied: MarkupSafe>=2.0 in c:\\users\\user pc\\anaconda3\\lib\\site-packages (from Jinja2>=3.0->Flask) (2.1.1)\n"
          ]
        }
      ],
      "source": [
        "!pip install Flask"
      ]
    },
    {
      "cell_type": "code",
      "execution_count": null,
      "id": "bacddc57",
      "metadata": {
        "id": "bacddc57"
      },
      "outputs": [],
      "source": [
        "import openai\n",
        "\n",
        "# Set your OpenAI API key\n",
        "openai.api_key = input(\"Please enter your OpenAI API key: \")\n",
        "\n",
        "# Function to generate recommendations based on user input using AI\n",
        "def generate_fruit_recommendations(go_out_to_party, flavor_preference, texture_dislike, price_range):\n",
        "    # Define the prompt based on user responses\n",
        "    prompt = f\"User preferences:\\n\\n- Go out to party on weekends: {go_out_to_party}\\n- Flavor preference: {flavor_preference}\\n- Texture dislike: {texture_dislike}\\n- Price range: ${price_range}\\n\\nBased on these preferences, recommend fruits:\"\n",
        "\n",
        "    # AI completion using OpenAI's GPT model\n",
        "    completion = openai.Completion.create(\n",
        "        engine=\"text-babbage-002\",\n",
        "        prompt=prompt,\n",
        "        max_tokens=100,\n",
        "        api_key=openai.api_key\n",
        "    )\n",
        "\n",
        "    # Extract recommended fruits from AI's completion\n",
        "    recommended_fruits = completion.choices[0].text.strip()\n",
        "\n",
        "    return recommended_fruits\n",
        "\n",
        "# Gather user input\n",
        "go_out_to_party = input(\"Do you go out to party on weekends? (yes or no): \")\n",
        "flavor_preference = input(\"What flavors do you like? (cider, sweet, waterlike): \")\n",
        "texture_dislike = input(\"What texture do you dislike? (smooth, slimy, rough): \")\n",
        "price_range_input = input(\"What price range will you buy drinks for? ($1, $2, $3, $4, $5, $6, $7, $8, $9, $10): \")\n",
        "while True:\n",
        "    try:\n",
        "        price_range = int(price_range_input)\n",
        "        if price_range < 1 or price_range > 10:\n",
        "            raise ValueError(\"Price range must be between 1 and 10\")\n",
        "        break\n",
        "    except ValueError:\n",
        "        price_range_input = input(\"Please enter a valid price range between $1 and $10: \")\n",
        "\n",
        "# Generate recommendations based on user input using AI\n",
        "recommended_fruits = generate_fruit_recommendations(go_out_to_party, flavor_preference, texture_dislike, price_range)\n",
        "\n",
        "# Print the recommended fruits\n",
        "print(\"Recommended fruits based on your preferences:\", recommended_fruits)\n"
      ]
    },
    {
      "cell_type": "code",
      "execution_count": null,
      "id": "5200061c",
      "metadata": {
        "id": "5200061c"
      },
      "outputs": [],
      "source": [
        "# Flask API Setup\n",
        "from flask import Flask, request, jsonify\n",
        "\n",
        "app = Flask(__name__)\n",
        "\n",
        "@app.route('/recommend_fruits', methods=['POST'])\n",
        "def recommend_fruits():\n",
        "    data = request.json\n",
        "    go_out_to_party = data.get(\"go_out_to_party\")\n",
        "    flavor_preference = data.get(\"flavor_preference\")\n",
        "    texture_dislike = data.get(\"texture_dislike\")\n",
        "    price_range = data.get(\"price_range\")\n",
        "\n",
        "    if None in [go_out_to_party, flavor_preference, texture_dislike, price_range]:\n",
        "        return jsonify({\"error\": \"Missing required fields\"}), 400\n",
        "\n",
        "    recommendations_prompt = generate_fruit_recommendations(go_out_to_party, flavor_preference, texture_dislike, price_range)\n",
        "    return jsonify({\"recommendations\": recommendations_prompt})\n",
        "\n",
        "if __name__ == '__main__':\n",
        "    app.run(debug=True)"
      ]
    }
  ],
  "metadata": {
    "kernelspec": {
      "display_name": "Python 3 (ipykernel)",
      "language": "python",
      "name": "python3"
    },
    "language_info": {
      "codemirror_mode": {
        "name": "ipython",
        "version": 3
      },
      "file_extension": ".py",
      "mimetype": "text/x-python",
      "name": "python",
      "nbconvert_exporter": "python",
      "pygments_lexer": "ipython3",
      "version": "3.10.9"
    },
    "colab": {
      "provenance": []
    }
  },
  "nbformat": 4,
  "nbformat_minor": 5
}