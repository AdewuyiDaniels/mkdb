{
 "cells": [
  {
   "cell_type": "code",
   "execution_count": 1,
   "id": "4431f97e",
   "metadata": {},
   "outputs": [
    {
     "name": "stdout",
     "output_type": "stream",
     "text": [
      "Requirement already satisfied: Flask in c:\\users\\user pc\\anaconda3\\lib\\site-packages (2.2.2)\n",
      "Requirement already satisfied: itsdangerous>=2.0 in c:\\users\\user pc\\anaconda3\\lib\\site-packages (from Flask) (2.0.1)\n",
      "Requirement already satisfied: Jinja2>=3.0 in c:\\users\\user pc\\anaconda3\\lib\\site-packages (from Flask) (3.1.2)\n",
      "Requirement already satisfied: Werkzeug>=2.2.2 in c:\\users\\user pc\\anaconda3\\lib\\site-packages (from Flask) (2.2.2)\n",
      "Requirement already satisfied: click>=8.0 in c:\\users\\user pc\\anaconda3\\lib\\site-packages (from Flask) (8.0.4)\n",
      "Requirement already satisfied: colorama in c:\\users\\user pc\\anaconda3\\lib\\site-packages (from click>=8.0->Flask) (0.4.6)\n",
      "Requirement already satisfied: MarkupSafe>=2.0 in c:\\users\\user pc\\anaconda3\\lib\\site-packages (from Jinja2>=3.0->Flask) (2.1.1)\n"
     ]
    }
   ],
   "source": [
    "!pip install Flask"
   ]
  },
  {
   "cell_type": "code",
   "execution_count": 14,
   "id": "bacddc57",
   "metadata": {},
   "outputs": [
    {
     "name": "stdout",
     "output_type": "stream",
     "text": [
      "Do you go out to party on weekends? (yes or no): yes\n",
      "What flavors do you like? (cider, sweet, waterlike): sweet\n",
      "What texture do you dislike? (smooth, slimy, rough): smooth\n",
      "What price range will you buy drinks for? ($1, $2, $3, $4, $5, $6, $7, $8, $9, $10): \n",
      "Please enter the corresponding number: 5\n",
      "Given the following rules:\n",
      "\n",
      "If you go out to party on weekends, the allowed fruits are: apples, pears, grapes, watermelon.\n",
      "If you like sweet, show watermelon, orange.\n",
      "If price is greater than $4 and less than $7, remove pears and apples.\n",
      "\n",
      "Based on your preferences, the recommended fruits are: watermelon, orange.\n",
      "\n"
     ]
    }
   ],
   "source": [
    "def generate_fruit_recommendations(go_out_to_party, flavor_preference, texture_dislike, price_range):\n",
    "    prompt = \"Given the following rules:\\n\\n\"\n",
    "    \n",
    "    # Add rules based on user responses\n",
    "    if go_out_to_party.lower() == \"yes\":\n",
    "        allowed_fruits = [\"apples\", \"pears\", \"grapes\", \"watermelon\"]\n",
    "        prompt += \"If you go out to party on weekends, the allowed fruits are: \" + \", \".join(allowed_fruits) + \".\\n\"\n",
    "    else:\n",
    "        allowed_fruits = [\"oranges\", \"apples\", \"pears\", \"grapes\", \"watermelon\", \"lemon\", \"lime\"]\n",
    "    \n",
    "    if flavor_preference.lower() == \"cider\":\n",
    "        prompt += \"If you like cider, show apples, oranges, lemon, lime.\\n\"\n",
    "        allowed_fruits = [\"apples\", \"oranges\", \"lemon\", \"lime\"]\n",
    "    elif flavor_preference.lower() == \"sweet\":\n",
    "        prompt += \"If you like sweet, show watermelon, orange.\\n\"\n",
    "        allowed_fruits = [\"watermelon\", \"orange\"]\n",
    "    elif flavor_preference.lower() == \"waterlike\":\n",
    "        prompt += \"If you like waterlike, show watermelon.\\n\"\n",
    "        allowed_fruits = [\"watermelon\"]\n",
    "    \n",
    "    if \"watermelon\" in allowed_fruits and \"grapes\" in allowed_fruits:\n",
    "        prompt += \"If grapes are chosen, remove watermelon from the list.\\n\"\n",
    "        allowed_fruits.remove(\"watermelon\")\n",
    "    \n",
    "    if texture_dislike.lower() == \"smooth\" and \"pears\" in allowed_fruits:\n",
    "        prompt += \"If you don't like smooth texture, remove pears.\\n\"\n",
    "        allowed_fruits.remove(\"pears\")\n",
    "    elif texture_dislike.lower() == \"slimy\":\n",
    "        prompt += \"If you don't like slimy texture, remove watermelon, lime, and grape.\\n\"\n",
    "        for fruit in [\"watermelon\", \"lime\", \"grape\"]:\n",
    "            if fruit in allowed_fruits:\n",
    "                allowed_fruits.remove(fruit)\n",
    "    elif texture_dislike.lower() == \"waterlike\" and \"watermelon\" in allowed_fruits:\n",
    "        prompt += \"If you don't like waterlike texture, remove watermelon.\\n\"\n",
    "        allowed_fruits.remove(\"watermelon\")\n",
    "    \n",
    "    if price_range < 3:\n",
    "        prompt += \"If price is less than $3, remove lime and watermelon.\\n\"\n",
    "        for fruit in [\"lime\", \"watermelon\"]:\n",
    "            if fruit in allowed_fruits:\n",
    "                allowed_fruits.remove(fruit)\n",
    "    elif price_range > 4 and price_range < 7:\n",
    "        prompt += \"If price is greater than $4 and less than $7, remove pears and apples.\\n\"\n",
    "        for fruit in [\"pears\", \"apples\"]:\n",
    "            if fruit in allowed_fruits:\n",
    "                allowed_fruits.remove(fruit)\n",
    "    \n",
    "    prompt += \"\\nBased on your preferences, the recommended fruits are: \" + \", \".join(allowed_fruits) + \".\\n\"\n",
    "    \n",
    "    return prompt\n",
    "\n",
    "# Updated function to get user input\n",
    "def get_user_input():\n",
    "    go_out_to_party = input(\"Do you go out to party on weekends? (yes or no): \")\n",
    "    flavor_preference = input(\"What flavors do you like? (cider, sweet, waterlike): \")\n",
    "    texture_dislike = input(\"What texture do you dislike? (smooth, slimy, rough): \")\n",
    "    print(\"What price range will you buy drinks for? ($1, $2, $3, $4, $5, $6, $7, $8, $9, $10): \")\n",
    "    price_range_input = input(\"Please enter the corresponding number: \")\n",
    "    try:\n",
    "        price_range = int(price_range_input)\n",
    "        if price_range < 1 or price_range > 10:\n",
    "            raise ValueError(\"Price range must be between 1 and 10\")\n",
    "        return go_out_to_party, flavor_preference, texture_dislike, price_range\n",
    "    except ValueError as e:\n",
    "        print(\"Invalid input:\", e)\n",
    "        return None\n",
    "\n",
    "# Get user input with error handling\n",
    "user_input = None\n",
    "while user_input is None:\n",
    "    user_input = get_user_input()\n",
    "\n",
    "# Generate recommendations based on user input\n",
    "go_out_to_party, flavor_preference, texture_dislike, price_range = user_input\n",
    "recommendations_prompt = generate_fruit_recommendations(go_out_to_party, flavor_preference, texture_dislike, price_range)\n",
    "print(recommendations_prompt)\n"
   ]
  },
  {
   "cell_type": "code",
   "execution_count": 25,
   "id": "5200061c",
   "metadata": {},
   "outputs": [
    {
     "name": "stdout",
     "output_type": "stream",
     "text": [
      " * Serving Flask app '__main__'\n",
      " * Debug mode: on\n"
     ]
    },
    {
     "name": "stderr",
     "output_type": "stream",
     "text": [
      "WARNING: This is a development server. Do not use it in a production deployment. Use a production WSGI server instead.\n",
      " * Running on http://127.0.0.1:5000\n",
      "Press CTRL+C to quit\n",
      " * Restarting with watchdog (windowsapi)\n"
     ]
    },
    {
     "ename": "SystemExit",
     "evalue": "1",
     "output_type": "error",
     "traceback": [
      "An exception has occurred, use %tb to see the full traceback.\n",
      "\u001b[1;31mSystemExit\u001b[0m\u001b[1;31m:\u001b[0m 1\n"
     ]
    }
   ],
   "source": [
    "# Flask API Setup\n",
    "from flask import Flask, request, jsonify\n",
    "\n",
    "app = Flask(__name__)\n",
    "\n",
    "@app.route('/recommend_fruits', methods=['POST'])\n",
    "def recommend_fruits():\n",
    "    data = request.json\n",
    "    go_out_to_party = data.get(\"go_out_to_party\")\n",
    "    flavor_preference = data.get(\"flavor_preference\")\n",
    "    texture_dislike = data.get(\"texture_dislike\")\n",
    "    price_range = data.get(\"price_range\")\n",
    "\n",
    "    if None in [go_out_to_party, flavor_preference, texture_dislike, price_range]:\n",
    "        return jsonify({\"error\": \"Missing required fields\"}), 400\n",
    "    \n",
    "    recommendations_prompt = generate_fruit_recommendations(go_out_to_party, flavor_preference, texture_dislike, price_range)\n",
    "    return jsonify({\"recommendations\": recommendations_prompt})\n",
    "\n",
    "if __name__ == '__main__':\n",
    "    app.run(debug=True)"
   ]
  }
 ],
 "metadata": {
  "kernelspec": {
   "display_name": "Python 3 (ipykernel)",
   "language": "python",
   "name": "python3"
  },
  "language_info": {
   "codemirror_mode": {
    "name": "ipython",
    "version": 3
   },
   "file_extension": ".py",
   "mimetype": "text/x-python",
   "name": "python",
   "nbconvert_exporter": "python",
   "pygments_lexer": "ipython3",
   "version": "3.10.9"
  }
 },
 "nbformat": 4,
 "nbformat_minor": 5
}
